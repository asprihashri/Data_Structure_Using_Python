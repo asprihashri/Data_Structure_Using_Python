{
  "nbformat": 4,
  "nbformat_minor": 0,
  "metadata": {
    "colab": {
      "name": "MLD assignment.ipynb",
      "provenance": [],
      "authorship_tag": "ABX9TyMbevGOwvNThEJAFI05hu6S",
      "include_colab_link": true
    },
    "kernelspec": {
      "name": "python3",
      "display_name": "Python 3"
    }
  },
  "cells": [
    {
      "cell_type": "markdown",
      "metadata": {
        "id": "view-in-github",
        "colab_type": "text"
      },
      "source": [
        "<a href=\"https://colab.research.google.com/github/asprihashri/Data_Structure_Using_Python/blob/master/MLD_assignment.ipynb\" target=\"_parent\"><img src=\"https://colab.research.google.com/assets/colab-badge.svg\" alt=\"Open In Colab\"/></a>"
      ]
    },
    {
      "cell_type": "markdown",
      "metadata": {
        "id": "lyzm0u73kGEf",
        "colab_type": "text"
      },
      "source": [
        "1.1 Write a Python Program to implement your own myreduce() function which works exactly\n",
        "like Python's built-in function reduce()"
      ]
    },
    {
      "cell_type": "code",
      "metadata": {
        "id": "ZeazZ1KFkPFj",
        "colab_type": "code",
        "colab": {}
      },
      "source": [
        "def myreduce(func, seq):\n",
        "  result = seq[0]\n",
        "  for i in seq[1:]:\n",
        "    result = func(result, i)\n",
        "  return(result)"
      ],
      "execution_count": null,
      "outputs": []
    },
    {
      "cell_type": "markdown",
      "metadata": {
        "id": "3fk0pkowmsto",
        "colab_type": "text"
      },
      "source": [
        "1.2 Write a Python program to implement your own myfilter() function which works exactly\n",
        "like Python's built-in function filter()"
      ]
    },
    {
      "cell_type": "code",
      "metadata": {
        "id": "dQhbVz3Pm7Nr",
        "colab_type": "code",
        "colab": {}
      },
      "source": [
        "def myfilter(func, iterable):\n",
        "  result = []\n",
        "  for i in iterable:\n",
        "    if func(i):\n",
        "      result.append(i)\n",
        "  return(result)"
      ],
      "execution_count": null,
      "outputs": []
    },
    {
      "cell_type": "markdown",
      "metadata": {
        "id": "u8fbqMiR1MD9",
        "colab_type": "text"
      },
      "source": [
        "2. Implement List comprehensions to produce the following lists.\n",
        "Write List comprehensions to produce the following Lists\n",
        "['x', 'xx', 'xxx', 'xxxx', 'y', 'yy', 'yyy', 'yyyy', 'z', 'zz', 'zzz', 'zzzz']\n",
        "['x', 'y', 'z', 'xx', 'yy', 'zz', 'xxx', 'yyy', 'zzz', 'xxxx', 'yyyy', 'zzzz']\n",
        "[[2], [3], [4], [3], [4], [5], [4], [5], [6]] [[2, 3, 4, 5], [3, 4, 5, 6],\n",
        "[4, 5, 6, 7], [5, 6, 7, 8]]\n",
        "[(1, 1), (2, 1), (3, 1), (1, 2), (2, 2), (3, 2), (1, 3), (2, 3), (3, 3)]"
      ]
    },
    {
      "cell_type": "code",
      "metadata": {
        "id": "rntr2nrZ1ZRc",
        "colab_type": "code",
        "colab": {}
      },
      "source": [
        "input1 = ['x','y','z']\n",
        "lst1 = [j*i for j in input for i in range(1,5)]\n",
        "input2 = ['x','y','z']\n",
        "lst2 = [i*j for i in range(1,5) for j in input2]\n",
        "input3 = [2,3,4,5,6,7,8]\n",
        "lst3 = [[i+j] for i in input3[:3] for j in range(3)]\n",
        "lst4 = [[i+j for i in input3[:4]] for j in range(4)]\n",
        "lst5 = [(i,j)for j in range(1,4) for i in range(1,4)]\n",
        "print(lst1)\n",
        "print(lst2)\n",
        "print(lst3)\n",
        "print(lst4)\n",
        "print(lst5)"
      ],
      "execution_count": null,
      "outputs": []
    }
  ]
}