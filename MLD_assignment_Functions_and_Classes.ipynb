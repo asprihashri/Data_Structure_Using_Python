{
  "nbformat": 4,
  "nbformat_minor": 0,
  "metadata": {
    "colab": {
      "name": "MLD assignment Functions and Classes.ipynb",
      "provenance": [],
      "authorship_tag": "ABX9TyPpFbVGSB+X5SfKgCsOSR4n",
      "include_colab_link": true
    },
    "kernelspec": {
      "name": "python3",
      "display_name": "Python 3"
    }
  },
  "cells": [
    {
      "cell_type": "markdown",
      "metadata": {
        "id": "view-in-github",
        "colab_type": "text"
      },
      "source": [
        "<a href=\"https://colab.research.google.com/github/asprihashri/MachineLearning_using_Python/blob/master/MLD_assignment_Functions_and_Classes.ipynb\" target=\"_parent\"><img src=\"https://colab.research.google.com/assets/colab-badge.svg\" alt=\"Open In Colab\"/></a>"
      ]
    },
    {
      "cell_type": "markdown",
      "metadata": {
        "id": "eD6GDFbtmwcI",
        "colab_type": "text"
      },
      "source": [
        "1.1 Write a Python Program(with class concepts) to find the area of the triangle using the below\n",
        "formula.\n",
        "area = (s*(s-a)*(s-b)*(s-c)) ** 0.5\n",
        "Function to take the length of the sides of triangle from user should be defined in the parent\n",
        "class and function to calculate the area should be defined in subclass."
      ]
    },
    {
      "cell_type": "code",
      "metadata": {
        "id": "zw7Ngtxgm9Zf",
        "colab_type": "code",
        "colab": {}
      },
      "source": [
        "class get_length:\n",
        "  def __init__(self, a,b,c):\n",
        "    self.a = float(a)\n",
        "    self.b = float(b)\n",
        "    self.c = float(c)\n",
        "a = int(input('a = '))\n",
        "b = int(input('b = '))\n",
        "c = int(input('c = '))   \n",
        "\n",
        "class Area(get_length):\n",
        "  def xyz(self,a,b,c):\n",
        "    get_length.__init__(self,a,b,c)\n",
        "\n",
        "  def get_area(self):\n",
        "    s = (a+b+c)/2\n",
        "    area = (s*(s-a)*(s-b)*(s-c))**0.5\n",
        "    return(area)\n",
        "\n",
        "p = Area(a,b,c)\n",
        "print('area : {}'.format(p.get_area()))"
      ],
      "execution_count": null,
      "outputs": []
    },
    {
      "cell_type": "markdown",
      "metadata": {
        "id": "H1oSU20J3Bj1",
        "colab_type": "text"
      },
      "source": [
        "1.2 Write a function filter_long_words() that takes a list of words and an integer n and returns\n",
        "the list of words that are longer than n."
      ]
    },
    {
      "cell_type": "code",
      "metadata": {
        "id": "z1bqhMjW3I_C",
        "colab_type": "code",
        "colab": {}
      },
      "source": [
        "def filter_long_words(seq, n):\n",
        "  lst = []\n",
        "  for i in seq:\n",
        "    if n < len(i):\n",
        "      lst.append(i)\n",
        "  return(lst)\n",
        "\n",
        "seq = list((seq for seq in input(\"Enter different words: \").split(',')))\n",
        "n = int(input('Enter any integer: '))\n",
        "print(filter_long_words(seq, n))"
      ],
      "execution_count": null,
      "outputs": []
    },
    {
      "cell_type": "markdown",
      "metadata": {
        "id": "3H6qb4ol6Pve",
        "colab_type": "text"
      },
      "source": [
        "2.1 Write a Python program using function concept that maps list of words into a list of integers\n",
        "representing the lengths of the corresponding words."
      ]
    },
    {
      "cell_type": "code",
      "metadata": {
        "id": "er-_75wEAaIc",
        "colab_type": "code",
        "colab": {}
      },
      "source": [
        "def map_words_to_integer(seq):\n",
        "  lst = []\n",
        "  for i in range(len(seq)):\n",
        "    lst.append(len(seq[i]))\n",
        "  return(lst)\n",
        "\n",
        "seq = list((seq for seq in input(\"Enter sequence of words: \").split(',')))\n",
        "print(map_words_to_integer(seq))"
      ],
      "execution_count": null,
      "outputs": []
    },
    {
      "cell_type": "markdown",
      "metadata": {
        "id": "eY8Oqa18Bu-0",
        "colab_type": "text"
      },
      "source": [
        "2.2 Write a Python function which takes a character (i.e. a string of length 1) and returns True if\n",
        "it is a vowel, False otherwise."
      ]
    },
    {
      "cell_type": "code",
      "metadata": {
        "id": "wBIyW9ysB3Pm",
        "colab_type": "code",
        "colab": {}
      },
      "source": [
        "def checkVowel(letter):\n",
        "  v = ['a', 'e', 'i', 'o', 'u']\n",
        "  if letter in v:\n",
        "    return(True)\n",
        "  else:\n",
        "    return(False)\n",
        "\n",
        "letter = input('Enter any charecter: ')\n",
        "print(checkVowel(letter))"
      ],
      "execution_count": null,
      "outputs": []
    }
  ]
}