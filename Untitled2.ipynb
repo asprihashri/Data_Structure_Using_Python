{
  "nbformat": 4,
  "nbformat_minor": 0,
  "metadata": {
    "colab": {
      "name": "Untitled2.ipynb",
      "provenance": [],
      "authorship_tag": "ABX9TyMAzLETYnXUh978w4Pk8I6n",
      "include_colab_link": true
    },
    "kernelspec": {
      "name": "python3",
      "display_name": "Python 3"
    }
  },
  "cells": [
    {
      "cell_type": "markdown",
      "metadata": {
        "id": "view-in-github",
        "colab_type": "text"
      },
      "source": [
        "<a href=\"https://colab.research.google.com/github/asprihashri/MachineLearning_using_Python/blob/master/Untitled2.ipynb\" target=\"_parent\"><img src=\"https://colab.research.google.com/assets/colab-badge.svg\" alt=\"Open In Colab\"/></a>"
      ]
    },
    {
      "cell_type": "code",
      "metadata": {
        "colab": {
          "base_uri": "https://localhost:8080/"
        },
        "id": "zNJcJ1QZ5yqn",
        "outputId": "a1e6ae84-06e5-4dc3-fd7f-4f75e4441cef"
      },
      "source": [
        "#1. Write a function to compute 5/0 and use try/except to catch the exceptions.\n",
        "def divide():\n",
        "    return 5/0\n",
        "\n",
        "try:\n",
        "    divide()\n",
        "except ZeroDivisionError as ze:\n",
        "    print(\"Why on earth you are dividing a number by ZERO!!\")\n",
        "except:\n",
        "    print(\"Any other exception\")"
      ],
      "execution_count": 1,
      "outputs": [
        {
          "output_type": "stream",
          "text": [
            "Why on earth you are dividing a number by ZERO!!\n"
          ],
          "name": "stdout"
        }
      ]
    },
    {
      "cell_type": "code",
      "metadata": {
        "colab": {
          "base_uri": "https://localhost:8080/"
        },
        "id": "-9MsKdgq6R_R",
        "outputId": "90ed2c9b-77a4-4f4e-de58-7c08f9b6a67c"
      },
      "source": [
        "#2. Implement a Python program to generate all sentences where subject is in\n",
        "#[\"Americans\", \"Indians\"] and verb is in [\"Play\", \"watch\"] and the object is in\n",
        "#[\"Baseball\",\"cricket\"].\n",
        "subject = [\"American\",\"Indians\"]\n",
        "verb = [\"Play\",\"Watch\"]\n",
        "object = [\"Baseball\",\"Cricket\"]\n",
        "All_sentences = [(sub +\" \"+ ver +\" \" + obj+\".\") for sub in subject for ver in verb for obj in object] \n",
        "for sentence in All_sentences:\n",
        "  print(sentence)"
      ],
      "execution_count": 5,
      "outputs": [
        {
          "output_type": "stream",
          "text": [
            "American Play Baseball.\n",
            "American Play Cricket.\n",
            "American Watch Baseball.\n",
            "American Watch Cricket.\n",
            "Indians Play Baseball.\n",
            "Indians Play Cricket.\n",
            "Indians Watch Baseball.\n",
            "Indians Watch Cricket.\n"
          ],
          "name": "stdout"
        }
      ]
    }
  ]
}